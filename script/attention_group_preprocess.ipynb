{
 "cells": [
  {
   "cell_type": "markdown",
   "metadata": {},
   "source": [
    "## 用户关注分组数据预处理脚本\n",
    "* 用户分组名比较自由、口语化，包含许多emoji、特殊符号等，因此先做预处理，方便词向量文件中筛选出\n"
   ]
  },
  {
   "cell_type": "markdown",
   "metadata": {},
   "source": [
    "### 背景及整体流程\n",
    "1. 首先获取用户分组与频次数据(101机器：/data0/ad_dm/online/weibo_crowds_mining/data/group_name_list.dat)\n",
    "2. 同步数据到70上，取top1w做调研\n",
    "3. 使用本脚本做预处理:去除emoji/数字/特殊符号等\n",
    "4. 使用简单、暴力的方案筛选向量 grep -w -F -f group_chn_name_1w.dat w2v_skip_gram.txt  > group_chn_name_1w.vector\n",
    "5. 文件中仍然有类似“马克．吐温”的词，使用awk过滤：awk -F ' ' '{if(!match($1,\"·\")){print $0}}'\n",
    "6. 之后交由script/w2c_tsne_visualize.ipynb 脚本做可视化\n",
    "7. 最终分析关注动机，能为“关系类型”确定带来启发以及之后如何利用分组名称"
   ]
  },
  {
   "cell_type": "code",
   "execution_count": 90,
   "metadata": {
    "collapsed": true
   },
   "outputs": [],
   "source": [
    "import re\n",
    "\n",
    "#####定义正则匹配相关词的格式\n",
    "digit_pattern = re.compile(ur\"[0-9]+\")\n",
    "chn_pattern = re.compile(ur\"[\\u4e00-\\u9fff]\")\n",
    "emoji_pattern = re.compile(\n",
    "    u\"(\\ud83d[\\ude00-\\ude4f])|\"  # emoticons\n",
    "    u\"(\\ud83c[\\udf00-\\uffff])|\"  # symbols & pictographs (1 of 2)\n",
    "    u\"(\\ud83d[\\u0000-\\uddff])|\"  # symbols & pictographs (2 of 2)\n",
    "    u\"(\\ud83d[\\ude80-\\udeff])|\"  # transport & map symbols\n",
    "    u\"(\\ud83c[\\udde0-\\uddff])\"  # flags (iOS)\n",
    "    \"+\", flags=re.UNICODE)\n",
    "special_pattern=re.compile(\"[\\s+\\.\\!\\/_,$%^*(+\\\"\\']+|[+——！，。？、~@#￥%……&*（）]+\".decode(\"utf8\"))\n",
    "regexp = re.compile(r'[^\\x00-\\x7f]')  ###非英文ASCII"
   ]
  },
  {
   "cell_type": "code",
   "execution_count": 91,
   "metadata": {
    "collapsed": false
   },
   "outputs": [],
   "source": [
    "###匹配汉字且不带表情、数字等\n",
    "def get_chn_line(input_file,output_file):\n",
    "    f_output=open(output_file,'w+')\n",
    "    count=0\n",
    "    for line in open(input_file):\n",
    "        line  = line.strip().decode(\"utf8\")\n",
    "        if chn_pattern.search(line) and not emoji_pattern.search(line) and not digit_pattern.search(line) and not special_pattern.search(line):\n",
    "           ## print(line)\n",
    "            print >> f_output,\"%s\" % line.encode(\"utf8\")\n",
    "            count=count+1\n",
    "    print(count)\n",
    "\n",
    "###含有表情的\n",
    "def get_emoji_line(file):\n",
    "    count=0\n",
    "    for line in open(file):\n",
    "        line  = line.strip().decode(\"utf8\")\n",
    "        if emoji_pattern.search(line):\n",
    "            print(line)\n",
    "            count=count+1\n",
    "    print(count)\n",
    "###含有数字的\n",
    "def get_digit_line(file):\n",
    "    count=0\n",
    "    for line in open(file):\n",
    "        line  = line.strip().decode(\"utf8\")\n",
    "        if digit_pattern.search(line):\n",
    "            print(line)\n",
    "            count=count+1\n",
    "    print(count)\n",
    "###含有特殊符号的\n",
    "def get_special_line(file):\n",
    "    count=0\n",
    "    for line in open(file):\n",
    "        line  = line.strip().decode(\"utf8\")\n",
    "        if special_pattern.search(line):\n",
    "            print(line)\n",
    "            count=count+1\n",
    "    print(count)"
   ]
  },
  {
   "cell_type": "code",
   "execution_count": 92,
   "metadata": {
    "collapsed": false
   },
   "outputs": [],
   "source": [
    "####测试各正则匹配的效果\n",
    "#get_emoji_line(\"/data1/ad_dm/rsync_data/group_pure_name_5w.dat\")\n",
    "#get_digit_line(\"/data1/ad_dm/rsync_data/group_pure_name_5w.dat\")\n",
    "#get_special_line(\"/data1/ad_dm/rsync_data/group_pure_name_5w.dat\")"
   ]
  },
  {
   "cell_type": "code",
   "execution_count": 93,
   "metadata": {
    "collapsed": false
   },
   "outputs": [
    {
     "name": "stdout",
     "output_type": "stream",
     "text": [
      "10000\n"
     ]
    }
   ],
   "source": [
    "get_chn_line(\"../data/group_chn_name_1w.dat\",\"../data/group_chn_name.data\")"
   ]
  },
  {
   "cell_type": "code",
   "execution_count": null,
   "metadata": {
    "collapsed": true
   },
   "outputs": [],
   "source": []
  },
  {
   "cell_type": "code",
   "execution_count": null,
   "metadata": {
    "collapsed": true
   },
   "outputs": [],
   "source": []
  }
 ],
 "metadata": {
  "kernelspec": {
   "display_name": "Python 2",
   "language": "python",
   "name": "python2"
  },
  "language_info": {
   "codemirror_mode": {
    "name": "ipython",
    "version": 2
   },
   "file_extension": ".py",
   "mimetype": "text/x-python",
   "name": "python",
   "nbconvert_exporter": "python",
   "pygments_lexer": "ipython2",
   "version": "2.7.5"
  }
 },
 "nbformat": 4,
 "nbformat_minor": 1
}
