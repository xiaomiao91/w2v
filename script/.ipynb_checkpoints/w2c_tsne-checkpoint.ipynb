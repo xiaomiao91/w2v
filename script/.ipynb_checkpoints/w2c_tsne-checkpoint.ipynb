{
 "cells": [
  {
   "cell_type": "markdown",
   "metadata": {},
   "source": [
    "# 该脚本用于词向量可视化（带分类标签）\n",
    "## 先用tsne降维，然后调用R脚本做图"
   ]
  },
  {
   "cell_type": "code",
   "execution_count": 2,
   "metadata": {
    "collapsed": false
   },
   "outputs": [],
   "source": [
    "import sys\n",
    "reload(sys)\n",
    "sys.setdefaultencoding('utf-8')\n",
    "####import matplotlib\n",
    "\n",
    "import matplotlib\n",
    "matplotlib.use('Agg')\n",
    "import matplotlib.pyplot as plt\n",
    "import matplotlib.patheffects as PathEffects\n",
    "import matplotlib\n",
    "####import numpy/scipy\n",
    "import numpy as np\n",
    "from numpy import linalg\n",
    "from numpy.linalg import norm\n",
    "from scipy.spatial.distance import squareform, pdist\n",
    "\n",
    "# We import sklearn.\n",
    "import sklearn\n",
    "from sklearn.manifold import TSNE\n",
    "from sklearn.datasets import load_digits\n",
    "from sklearn.preprocessing import scale\n",
    "\n",
    "# We'll hack a bit with the t-SNE code in sklearn 0.15.2.\n",
    "from sklearn.metrics.pairwise import pairwise_distances\n",
    "from sklearn.manifold.t_sne import (_joint_probabilities,_kl_divergence)\n",
    "from sklearn.utils.extmath import _ravel\n",
    "\n",
    "###import ggplot\n",
    "#import rpy2.interactive as r\n",
    "#import rpy2.interactive.packages # this can take few seconds\n",
    "#import ggplot\n",
    "\n",
    "####import tsne\n",
    "from sklearn.manifold import TSNE"
   ]
  },
  {
   "cell_type": "code",
   "execution_count": null,
   "metadata": {
    "collapsed": false
   },
   "outputs": [],
   "source": [
    "##读取文件(矩阵)到二维数组中,降维\n",
    "dat=[]\n",
    "word=[]\n",
    "f=open('/data1/ad_dm/zemin/w2v_vis/data/test_1w.dat')\n",
    "for line in f:\n",
    "    line=line.strip()  \n",
    "    items=line.split(' ')\n",
    "    temp=[]\n",
    "    for i in range(500):\n",
    "        temp.append(items[i+1])\n",
    "    dat.append(temp)\n",
    "    word.append(items[0])\n",
    "f.close()"
   ]
  },
  {
   "cell_type": "code",
   "execution_count": null,
   "metadata": {
    "collapsed": false,
    "scrolled": true
   },
   "outputs": [],
   "source": [
    "model=TSNE(n_components=2,random_state=0)\n",
    "tsne_dat=model.fit_transform(dat)"
   ]
  },
  {
   "cell_type": "code",
   "execution_count": null,
   "metadata": {
    "collapsed": false
   },
   "outputs": [],
   "source": [
    "f_plot=open('/data1/ad_dm/zemin/w2v_vis/data/test_1w.plotdata','w+')\n",
    "for i in range(9999):\n",
    "    f_plot.write(word[i]+'\\t'+str(tsne_dat[i,0])+'\\t'+str(tsne_dat[i,1])+'\\n')\n",
    "    #print >> f_plot,\"%s\\t%s\\t%s\"%(word[i],tsne_dat[i,0],tsne_dat[i,1])\n",
    "f_plot.close()"
   ]
  },
  {
   "cell_type": "code",
   "execution_count": null,
   "metadata": {
    "collapsed": false,
    "scrolled": false
   },
   "outputs": [],
   "source": [
    "#####使用matplotlib来作图\n",
    "#%matplotlib inline\n",
    "#plt.figure(figsize=(50,50))\n",
    "#plt.scatter(tsne_dat[:,0],tsne_dat[:,1],s=5,alpha=0.4)\n",
    "#for i in range(9999):\n",
    "#    plt.text(tsne_dat[i,0],tsne_dat[i,1],word[i])\n",
    "#plt.show()\n"
   ]
  },
  {
   "cell_type": "code",
   "execution_count": null,
   "metadata": {
    "collapsed": false
   },
   "outputs": [],
   "source": [
    "###使用magic R来作图，与R加载的包兼容性不好，\n",
    "#%%R \n",
    "###读数据\n",
    "#require(\"ggplot2\")\n",
    "#require(\"showtext\")\n",
    "#font.add(\"kaishu\",\"simkai.ttf\") \n",
    "#font.add(\"SimHei\",\"simhei.ttf\") \n",
    "#font.add(\"FangSong\",\"simfang.ttf\")\n",
    "\n",
    "#data<-read.table(\"/data1/ad_dm/zemin/w2v_vis/data/test_1w.plotdat\")\n",
    "#names(data)<-c(\"word\",\"x\",\"y\")\n",
    "#plot(data$x,data$y)\n",
    "#ggplot(data,aes(x,y,label=word))+geom_point()+geom_text(size=2,family='kaishu',vjust=0.05)\n",
    "#ggsave(plot=p,device='png',filename='/data1/ad_dm/zemin/w2v_vis/image/test_1w_1.png',height=20,width=20)\n",
    "#head(data)"
   ]
  },
  {
   "cell_type": "code",
   "execution_count": null,
   "metadata": {
    "collapsed": false,
    "scrolled": true
   },
   "outputs": [],
   "source": [
    "####使用python的的ggplot实现，效果不是很好\n",
    "#%matplotlib inline\n",
    "\n",
    "#from pandas import Series, DataFrame\n",
    "#import pandas as pd\n",
    "#from ggplot import *\n",
    "#py_dat=DataFrame(tsne_dat,columns=['x','y'])\n",
    "#py_dat['word']=word\n",
    "#p=ggplot(aes(x='x',y='y',label='word'),data=py_dat)+geom_point(size=1)+geom_text(size=1,family='kaishu',vjust=0.05)\n",
    "#p.save('/data1/ad_dm/zemin/w2v_vis/image/test_1w_1.png',height=20,width=20)\n"
   ]
  },
  {
   "cell_type": "code",
   "execution_count": null,
   "metadata": {
    "collapsed": false
   },
   "outputs": [],
   "source": [
    "%cd /data1/ad_dm/zemin/w2v_vis/\n",
    "! Rscript script/ggplot_2d.R  data/test_1w.plotdata image/test_1w_1.png"
   ]
  },
  {
   "cell_type": "code",
   "execution_count": null,
   "metadata": {
    "collapsed": true
   },
   "outputs": [],
   "source": []
  }
 ],
 "metadata": {
  "kernelspec": {
   "display_name": "Python 2",
   "language": "python",
   "name": "python2"
  },
  "language_info": {
   "codemirror_mode": {
    "name": "ipython",
    "version": 2
   },
   "file_extension": ".py",
   "mimetype": "text/x-python",
   "name": "python",
   "nbconvert_exporter": "python",
   "pygments_lexer": "ipython2",
   "version": "2.7.5"
  }
 },
 "nbformat": 4,
 "nbformat_minor": 1
}
