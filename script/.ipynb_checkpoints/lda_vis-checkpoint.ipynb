{
 "cells": [
  {
   "cell_type": "markdown",
   "metadata": {},
   "source": [
    "# 主题模型效果分析、评估、可视化"
   ]
  },
  {
   "cell_type": "code",
   "execution_count": 1,
   "metadata": {
    "collapsed": true
   },
   "outputs": [],
   "source": [
    "###word-topic的关联文件（词-词id-词频-主题libsvm格式向量）\n",
    "word_topic_map_file=\"/data2/zemin/rsync_data/lda_vis/word_Id_tf_topic.mapping\"\n",
    "topic_dim=1000\n",
    "word_dim=300000"
   ]
  },
  {
   "cell_type": "code",
   "execution_count": 2,
   "metadata": {
    "collapsed": true
   },
   "outputs": [],
   "source": [
    "####import numpy/scipy\n",
    "import numpy as np\n",
    "from numpy import linalg\n",
    "from numpy.linalg import norm\n",
    "import heapq \n",
    "import math"
   ]
  },
  {
   "cell_type": "code",
   "execution_count": 3,
   "metadata": {
    "collapsed": false
   },
   "outputs": [
    {
     "name": "stdout",
     "output_type": "stream",
     "text": [
      "done\n"
     ]
    }
   ],
   "source": [
    "##读取文件(topic-word)\n",
    "word_topic=np.zeros((word_dim,topic_dim))\n",
    "word_topic_without_tf=np.zeros((word_dim,topic_dim))\n",
    "word_dict={}\n",
    "####\n",
    "f=open(word_topic_map_file)\n",
    "for line in f:\n",
    "    line=line.strip()  \n",
    "    items=line.split(' ')\n",
    "    #print(items)\n",
    "    word_id=int(items[0])\n",
    "    word_char=items[1]\n",
    "    word_tf=int(items[2])\n",
    "    word_dict[word_id]=word_char\n",
    "    #print(word_id,word_char)  \n",
    "    topic_list=np.zeros(topic_dim)\n",
    "    topic_list_without_tf=np.zeros(topic_dim)\n",
    "    for i in range(3,len(items)):\n",
    "        topic_weight=items[i]\n",
    "        topic_id=int(topic_weight.split(':')[0])\n",
    "        weight=int(topic_weight.split(':')[1])\n",
    "        #print(topic_id,weight)\n",
    "        topic_list[topic_id]=weight/math.log(word_tf) ##考虑词频，除以tf\n",
    "        topic_list_without_tf[topic_id]=weight    ##不考虑词频\n",
    "    word_topic[word_id]=topic_list\n",
    "    word_topic_without_tf[word_id]=topic_list_without_tf\n",
    "print(\"done\")\n",
    "\n",
    "word_topic_matrix=np.matrix(word_topic)\n",
    "topic_word_matrix=word_topic_matrix.getT()\n",
    "\n",
    "word_topic_without_tf_matrix=np.matrix(word_topic_without_tf)\n",
    "topic_word_without_tf_matrix=word_topic_without_tf_matrix.getT()"
   ]
  },
  {
   "cell_type": "code",
   "execution_count": 4,
   "metadata": {
    "collapsed": false,
    "scrolled": true
   },
   "outputs": [
    {
     "name": "stdout",
     "output_type": "stream",
     "text": [
      "+==============topic0============+\n",
      "统筹\n",
      "调整\n",
      "简政放权\n",
      "行政\n",
      "参与\n",
      "效率\n",
      "试点工作\n",
      "管理体制\n",
      "一批\n",
      "市场主体\n",
      "+==============topic1============+\n",
      "科学\n",
      "模型\n",
      "连接\n",
      "最终\n",
      "包括\n",
      "状态\n",
      "发明家\n",
      "自动\n",
      "传递\n",
      "机器人\n",
      "+==============topic2============+\n",
      "应届\n",
      "一名\n",
      "拿到\n",
      "这份\n",
      "用人\n",
      "个人简历\n",
      "职员\n",
      "用人单位\n",
      "找到\n",
      "技能\n",
      "+==============topic3============+\n",
      "面对\n",
      "更是\n",
      "期待\n",
      "不一样\n",
      "眼中\n",
      "值得\n",
      "理解\n",
      "想要\n",
      "年代\n",
      "特别\n",
      "+==============topic4============+\n",
      "较大\n",
      "意味着\n",
      "10月\n",
      "11月\n",
      "多个\n",
      "走访\n",
      "已有\n",
      "数量\n",
      "情况\n",
      "3月\n",
      "+==============topic5============+\n",
      "老太太\n",
      "兄弟\n",
      "几年\n",
      "他家\n",
      "丈母娘\n",
      "一家人\n",
      "一辈子\n",
      "老二\n",
      "一点\n",
      "工作\n",
      "+==============topic6============+\n",
      "驱动\n",
      "创业园\n",
      "启动\n",
      "李克强\n",
      "创始人\n",
      "创新者\n",
      "升级\n",
      "机会\n",
      "实践\n",
      "营造\n",
      "+==============topic7============+\n",
      "殖民\n",
      "包括\n",
      "一世\n",
      "发展\n",
      "土地\n",
      "英格兰\n",
      "君主\n",
      "宗教\n",
      "骑士\n",
      "美洲\n",
      "+==============topic8============+\n",
      "产业链\n",
      "规模\n",
      "科工\n",
      "远洋\n",
      "中石油\n",
      "中石化\n",
      "宝钢股份\n",
      "中冶\n",
      "投资\n",
      "武钢股份\n",
      "+==============topic9============+\n",
      "技术培训\n",
      "管理\n",
      "越来越\n",
      "多少钱\n",
      "保证\n",
      "押韵\n",
      "统一\n",
      "格律\n",
      "服务\n",
      "后期\n"
     ]
    }
   ],
   "source": [
    "output_word_count=10\n",
    "for topic_id in range(10): \n",
    "  K=100 ##3输出topic 5s\n",
    "  one_topic=topic_word_matrix[topic_id,]\n",
    "  one_topic_array=one_topic.getA1()  ##转化为数组\n",
    "  ###topK_weight=one_topic_array[np.argpartition(one_topic_array,-K)[-K:]]  ##内部不排序，找出最大的K个\n",
    "  topK_word=np.argpartition(one_topic_array,-K)[-K:]\n",
    "  print(\"+==============topic\"+str(topic_id)+\"============+\")\n",
    "  m=0\n",
    "  for word_id in topK_word:\n",
    "    word=word_dict.get(word_id)\n",
    "    if word!=None and len(word)>3 and m<output_word_count: ###单字词和None不输出\n",
    "        print(word)\n",
    "        m=m+1"
   ]
  },
  {
   "cell_type": "code",
   "execution_count": 5,
   "metadata": {
    "collapsed": false
   },
   "outputs": [
    {
     "name": "stdout",
     "output_type": "stream",
     "text": [
      "==============topic0============\n",
      "提升\n",
      "效率\n",
      "基础\n",
      "保护\n",
      "目标\n",
      "改革方案\n",
      "参与\n",
      "行政\n",
      "调整\n",
      "一批\n",
      "==============topic1============\n",
      "拥有\n",
      "提高\n",
      "现实\n",
      "连接\n",
      "传递\n",
      "最终\n",
      "基础\n",
      "包括\n",
      "空间\n",
      "加密\n",
      "==============topic2============\n",
      "竞争\n",
      "平均\n",
      "职员\n",
      "调查\n",
      "毕业\n",
      "领导\n",
      "一线\n",
      "业绩\n",
      "新员工\n",
      "这份\n",
      "==============topic3============\n",
      "事实上\n",
      "令人\n",
      "影响\n",
      "一种\n",
      "空间\n",
      "喜欢\n",
      "值得\n",
      "书店\n",
      "话题\n",
      "也许\n",
      "==============topic4============\n",
      "高达\n",
      "实际上\n",
      "新闻\n",
      "中心\n",
      "较大\n",
      "压力\n",
      "整体\n",
      "平均\n",
      "6月\n",
      "多个\n",
      "==============topic5============\n",
      "老二\n",
      "上班\n",
      "岳母\n",
      "一家人\n",
      "二姐\n",
      "兄弟\n",
      "侄子\n",
      "不知道\n",
      "家人\n",
      "回到\n",
      "==============topic6============\n",
      "带来\n",
      "精神\n",
      "升级\n",
      "热情\n",
      "传统\n",
      "启动\n",
      "浪潮\n",
      "创办\n",
      "创始人\n",
      "对接\n",
      "==============topic7============\n",
      "葡萄牙\n",
      "拥有\n",
      "发明\n",
      "年代\n",
      "早期\n",
      "君主\n",
      "一世\n",
      "俄国\n",
      "公爵\n",
      "大陆\n",
      "==============topic8============\n",
      "中石化\n",
      "石化\n",
      "股份\n",
      "军民\n",
      "产品\n",
      "注入\n",
      "有望\n",
      "业务\n",
      "发展\n",
      "企业\n",
      "==============topic9============\n",
      "哪家\n",
      "简单\n",
      "第一\n",
      "格律\n",
      "小本\n",
      "养生\n",
      "保障\n",
      "统一\n",
      "连锁店\n",
      "装修\n"
     ]
    }
   ],
   "source": [
    "for topic_id in range(10): \n",
    "  K=100 ##3输出topic 5s\n",
    "  one_topic=topic_word_without_tf_matrix[topic_id,]\n",
    "  one_topic_array=one_topic.getA1()  ##转化为数组\n",
    "  ###topK_weight=one_topic_array[np.argpartition(one_topic_array,-K)[-K:]]  ##内部不排序，找出最大的K个\n",
    "  topK_word=np.argpartition(one_topic_array,-K)[-K:]\n",
    "  print(\"==============topic\"+str(topic_id)+\"============\")\n",
    "  m=0\n",
    "  for word_id in topK_word:\n",
    "    word=word_dict.get(word_id)\n",
    "    if word!=None and len(word)>3 and m<output_word_count:\n",
    "        print(word)\n",
    "        m=m+1"
   ]
  },
  {
   "cell_type": "code",
   "execution_count": 6,
   "metadata": {
    "collapsed": false
   },
   "outputs": [
    {
     "name": "stderr",
     "output_type": "stream",
     "text": [
      "/usr/lib64/python2.7/site-packages/matplotlib/font_manager.py:279: UserWarning: Matplotlib is building the font cache using fc-list. This may take a moment.\n",
      "  warnings.warn('Matplotlib is building the font cache using fc-list. This may take a moment.')\n"
     ]
    }
   ],
   "source": [
    "from matplotlib import pylab\n",
    "from six.moves import range\n",
    "from six.moves.urllib.request import urlretrieve\n",
    "from sklearn.manifold import TSNE\n",
    "import sys\n",
    "reload(sys)\n",
    "sys.setdefaultencoding('utf-8')"
   ]
  },
  {
   "cell_type": "code",
   "execution_count": 7,
   "metadata": {
    "collapsed": true
   },
   "outputs": [],
   "source": [
    "num_points = 400\n",
    "tsne = TSNE(perplexity=30, n_components=2, init='pca', n_iter=5000, method='exact')\n",
    "two_d_embeddings = tsne.fit_transform(word_topic_matrix[1:num_points+1, :])"
   ]
  },
  {
   "cell_type": "code",
   "execution_count": 8,
   "metadata": {
    "collapsed": false,
    "scrolled": true
   },
   "outputs": [],
   "source": [
    "def plot(embeddings, labels):\n",
    "  assert embeddings.shape[0] >= len(labels), 'More labels than embeddings'\n",
    "  pylab.figure(figsize=(15,15))  # in inches\n",
    "  for i, label in enumerate(labels):\n",
    "    x, y = embeddings[i,:]\n",
    "    pylab.scatter(x, y)\n",
    "    pylab.annotate(label, xy=(x, y), xytext=(5, 2), textcoords='offset points',\n",
    "                   ha='right', va='bottom')\n",
    "  pylab.show()\n",
    "\n",
    "words = [word_dict.get(i) for i in range(1, num_points+1)]\n",
    "#plot(two_d_embeddings, words)"
   ]
  },
  {
   "cell_type": "code",
   "execution_count": null,
   "metadata": {
    "collapsed": true
   },
   "outputs": [],
   "source": []
  },
  {
   "cell_type": "code",
   "execution_count": null,
   "metadata": {
    "collapsed": true
   },
   "outputs": [],
   "source": []
  }
 ],
 "metadata": {
  "kernelspec": {
   "display_name": "Python 2",
   "language": "python",
   "name": "python2"
  },
  "language_info": {
   "codemirror_mode": {
    "name": "ipython",
    "version": 2
   },
   "file_extension": ".py",
   "mimetype": "text/x-python",
   "name": "python",
   "nbconvert_exporter": "python",
   "pygments_lexer": "ipython2",
   "version": "2.7.5"
  }
 },
 "nbformat": 4,
 "nbformat_minor": 1
}
