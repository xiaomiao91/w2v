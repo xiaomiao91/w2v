{
 "cells": [
  {
   "cell_type": "markdown",
   "metadata": {},
   "source": [
    "# 主题模型效果分析、评估、可视化"
   ]
  },
  {
   "cell_type": "code",
   "execution_count": 179,
   "metadata": {
    "collapsed": true
   },
   "outputs": [],
   "source": [
    "###word-topic的关联文件（词-词id-词频-主题libsvm格式向量）\n",
    "word_topic_map_file=\"/data2/zemin/rsync_data/lda_vis/word_Id_tf_topic.mapping\"\n",
    "topic_dim=1000\n",
    "word_dim=300000"
   ]
  },
  {
   "cell_type": "code",
   "execution_count": 162,
   "metadata": {
    "collapsed": true
   },
   "outputs": [],
   "source": [
    "####import numpy/scipy\n",
    "import numpy as np\n",
    "from numpy import linalg\n",
    "from numpy.linalg import norm\n",
    "from scipy.spatial.distance import squareform, pdist\n",
    "import heapq \n",
    "import math"
   ]
  },
  {
   "cell_type": "code",
   "execution_count": 182,
   "metadata": {
    "collapsed": false
   },
   "outputs": [
    {
     "name": "stdout",
     "output_type": "stream",
     "text": [
      "done\n"
     ]
    }
   ],
   "source": [
    "##读取文件(topic-word)\n",
    "word_topic=np.zeros((word_dim,topic_dim))\n",
    "word_topic_without_tf=np.zeros((word_dim,topic_dim))\n",
    "word_dict={}\n",
    "####\n",
    "f=open(word_topic_map_file)\n",
    "for line in f:\n",
    "    line=line.strip()  \n",
    "    items=line.split(' ')\n",
    "    #print(items)\n",
    "    word_id=int(items[0])\n",
    "    word_char=items[1]\n",
    "    word_tf=int(items[2])\n",
    "    word_dict[word_id]=word_char\n",
    "    #print(word_id,word_char)  \n",
    "    topic_list=np.zeros(topic_dim)\n",
    "    topic_list_without_tf=np.zeros(topic_dim)\n",
    "    for i in range(3,len(items)):\n",
    "        topic_weight=items[i]\n",
    "        topic_id=int(topic_weight.split(':')[0])\n",
    "        weight=int(topic_weight.split(':')[1])\n",
    "        #print(topic_id,weight)\n",
    "        topic_list[topic_id]=weight/math.log(word_tf)\n",
    "        topic_list_without_tf[topic_id]=weight\n",
    "    word_topic[word_id]=topic_list\n",
    "    word_topic_without_tf[word_id]=topic_list_without_tf\n",
    "print(\"done\")\n",
    "\n",
    "word_topic_matrix=np.matrix(word_topic)\n",
    "topic_word_matrix=word_topic_matrix.getT()\n",
    "\n",
    "word_topic_without_tf_matrix=np.matrix(word_topic_without_tf)\n",
    "topic_word_without_tf_matrix=word_topic_without_tf_matrix.getT()"
   ]
  },
  {
   "cell_type": "code",
   "execution_count": 189,
   "metadata": {
    "collapsed": false,
    "scrolled": true
   },
   "outputs": [
    {
     "name": "stdout",
     "output_type": "stream",
     "text": [
      "==============topic0============\n",
      "统筹\n",
      "调整\n",
      "简政放权\n",
      "行政\n",
      "参与\n",
      "效率\n",
      "试点工作\n",
      "管理体制\n",
      "一批\n",
      "市场主体\n",
      "文件\n",
      "保障\n",
      "综合\n",
      "引导\n",
      "研究\n",
      "==============topic1============\n",
      "科学\n",
      "模型\n",
      "连接\n",
      "最终\n",
      "包括\n",
      "状态\n",
      "发明家\n",
      "自动\n",
      "传递\n",
      "机器人\n",
      "光子\n",
      "工具\n",
      "简单\n",
      "类似\n",
      "世界上\n",
      "==============topic2============\n",
      "应届\n",
      "一名\n",
      "拿到\n",
      "这份\n",
      "用人\n",
      "个人简历\n",
      "职员\n",
      "用人单位\n",
      "找到\n",
      "技能\n",
      "一位\n",
      "这家\n",
      "人事\n",
      "用工\n",
      "底薪\n",
      "==============topic3============\n",
      "面对\n",
      "更是\n",
      "期待\n",
      "不一样\n",
      "眼中\n",
      "值得\n",
      "理解\n",
      "想要\n",
      "年代\n",
      "特别\n",
      "无数\n",
      "变化\n",
      "视角\n",
      "吸引\n",
      "细节\n",
      "==============topic4============\n",
      "较大\n",
      "意味着\n",
      "10月\n",
      "11月\n",
      "多个\n",
      "走访\n",
      "已有\n",
      "数量\n",
      "情况\n",
      "3月\n",
      "多位\n",
      "经济\n",
      "推出\n",
      "上海\n",
      "2016年\n",
      "==============topic5============\n",
      "老太太\n",
      "兄弟\n",
      "几年\n",
      "他家\n",
      "丈母娘\n",
      "一家人\n",
      "一辈子\n",
      "老二\n",
      "一点\n",
      "工作\n",
      "照顾\n",
      "老婆\n",
      "公公\n",
      "大姐\n",
      "打工\n",
      "==============topic6============\n",
      "驱动\n",
      "创业园\n",
      "启动\n",
      "李克强\n",
      "创始人\n",
      "创新者\n",
      "升级\n",
      "机会\n",
      "实践\n",
      "营造\n",
      "希望\n",
      "创办\n",
      "思维\n",
      "华强北\n",
      "带动\n",
      "==============topic7============\n",
      "殖民\n",
      "包括\n",
      "一世\n",
      "发展\n",
      "土地\n",
      "英格兰\n",
      "君主\n",
      "宗教\n",
      "骑士\n",
      "美洲\n",
      "继承\n",
      "家族\n",
      "欧洲人\n",
      "早期\n",
      "第一次\n",
      "==============topic8============\n",
      "产业链\n",
      "规模\n",
      "科工\n",
      "远洋\n",
      "中石油\n",
      "中石化\n",
      "宝钢股份\n",
      "中冶\n",
      "投资\n",
      "武钢股份\n",
      "有色金属\n",
      "板块\n",
      "冶金\n",
      "中央\n",
      "两家\n",
      "==============topic9============\n",
      "技术培训\n",
      "管理\n",
      "越来越\n",
      "多少钱\n",
      "保证\n",
      "押韵\n",
      "统一\n",
      "格律\n",
      "服务\n",
      "后期\n",
      "前景\n",
      "利润\n",
      "首选\n",
      "设备\n",
      "赚钱\n"
     ]
    }
   ],
   "source": [
    "output_word_count=15\n",
    "for topic_id in range(10): \n",
    "  K=100 ##3输出topic 5s\n",
    "  one_topic=topic_word_matrix[topic_id,]\n",
    "  one_topic_array=one_topic.getA1()  ##转化为数组\n",
    "  ###topK_weight=one_topic_array[np.argpartition(one_topic_array,-K)[-K:]]  ##内部不排序，找出最大的K个\n",
    "  topK_word=np.argpartition(one_topic_array,-K)[-K:]\n",
    "  print(\"==============topic\"+str(topic_id)+\"============\")\n",
    "  m=0\n",
    "  for word_id in topK_word:\n",
    "    word=word_dict.get(word_id)\n",
    "    if word!=None and len(word)>3 and m<output_word_count: ###单字词和None不输出\n",
    "        print(word)\n",
    "        m=m+1"
   ]
  },
  {
   "cell_type": "code",
   "execution_count": 187,
   "metadata": {
    "collapsed": false
   },
   "outputs": [
    {
     "name": "stdout",
     "output_type": "stream",
     "text": [
      "==============topic0============\n",
      "提升\n",
      "效率\n",
      "基础\n",
      "保护\n",
      "目标\n",
      "改革方案\n",
      "参与\n",
      "行政\n",
      "调整\n",
      "一批\n",
      "国资委\n",
      "会议\n",
      "审批\n",
      "清单\n",
      "依法\n",
      "综合\n",
      "方案\n",
      "引导\n",
      "举措\n",
      "研究\n",
      "==============topic1============\n",
      "拥有\n",
      "提高\n",
      "现实\n",
      "连接\n",
      "传递\n",
      "最终\n",
      "基础\n",
      "包括\n",
      "空间\n",
      "加密\n",
      "机器人\n",
      "取代\n",
      "密钥\n",
      "概念\n",
      "科学\n",
      "类似\n",
      "人员\n",
      "高科技\n",
      "世界上\n",
      "两个\n",
      "==============topic2============\n",
      "竞争\n",
      "平均\n",
      "职员\n",
      "调查\n",
      "毕业\n",
      "领导\n",
      "一线\n",
      "业绩\n",
      "新员工\n",
      "这份\n",
      "招人\n",
      "用人单位\n",
      "拿到\n",
      "职位\n",
      "一份\n",
      "工作\n",
      "招聘会\n",
      "年终奖\n",
      "年薪\n",
      "雇主\n",
      "==============topic3============\n",
      "事实上\n",
      "令人\n",
      "影响\n",
      "一种\n",
      "空间\n",
      "喜欢\n",
      "值得\n",
      "书店\n",
      "话题\n",
      "也许\n",
      "感觉\n",
      "诞生\n",
      "方式\n",
      "找到\n",
      "之间\n",
      "真实\n",
      "呈现\n",
      "发现\n",
      "有趣\n",
      "选择\n",
      "==============topic4============\n",
      "高达\n",
      "实际上\n",
      "新闻\n",
      "中心\n",
      "较大\n",
      "压力\n",
      "整体\n",
      "平均\n",
      "6月\n",
      "多个\n",
      "统计\n",
      "商报\n",
      "年底\n",
      "多位\n",
      "情况\n",
      "成本\n",
      "包括\n",
      "证券日报\n",
      "世纪\n",
      "商报讯\n",
      "==============topic5============\n",
      "老二\n",
      "上班\n",
      "岳母\n",
      "一家人\n",
      "二姐\n",
      "兄弟\n",
      "侄子\n",
      "不知道\n",
      "家人\n",
      "回到\n",
      "妈妈\n",
      "老太太\n",
      "他家\n",
      "外甥\n",
      "我们家\n",
      "妹妹\n",
      "工作\n",
      "孩子\n",
      "岳父\n",
      "二哥\n",
      "==============topic6============\n",
      "带来\n",
      "精神\n",
      "升级\n",
      "热情\n",
      "传统\n",
      "启动\n",
      "浪潮\n",
      "创办\n",
      "创始人\n",
      "对接\n",
      "营造\n",
      "经验\n",
      "中心\n",
      "技术\n",
      "基地\n",
      "鼓励\n",
      "成果\n",
      "总理\n",
      "社会\n",
      "实践\n",
      "==============topic7============\n",
      "葡萄牙\n",
      "拥有\n",
      "发明\n",
      "年代\n",
      "早期\n",
      "君主\n",
      "一世\n",
      "俄国\n",
      "公爵\n",
      "大陆\n",
      "文明\n",
      "世界上\n",
      "独立\n",
      "地位\n",
      "二世\n",
      "奴隶\n",
      "征服\n",
      "东方\n",
      "代表\n",
      "英格兰\n",
      "==============topic8============\n",
      "中石化\n",
      "石化\n",
      "股份\n",
      "军民\n",
      "产品\n",
      "注入\n",
      "有望\n",
      "业务\n",
      "发展\n",
      "企业\n",
      "推进\n",
      "合并\n",
      "制造\n",
      "稀土\n",
      "重点\n",
      "武钢\n",
      "相关\n",
      "航空\n",
      "领域\n",
      "油气\n",
      "==============topic9============\n",
      "哪家\n",
      "简单\n",
      "第一\n",
      "格律\n",
      "小本\n",
      "养生\n",
      "保障\n",
      "统一\n",
      "连锁店\n",
      "装修\n",
      "利润\n",
      "管理\n",
      "致富\n",
      "平声\n",
      "快餐\n",
      "越来越\n",
      "无忧\n",
      "后期\n",
      "保证\n",
      "前景\n"
     ]
    }
   ],
   "source": [
    "for topic_id in range(10): \n",
    "  K=100 ##3输出topic 5s\n",
    "  one_topic=topic_word_without_tf_matrix[topic_id,]\n",
    "  one_topic_array=one_topic.getA1()  ##转化为数组\n",
    "  ###topK_weight=one_topic_array[np.argpartition(one_topic_array,-K)[-K:]]  ##内部不排序，找出最大的K个\n",
    "  topK_word=np.argpartition(one_topic_array,-K)[-K:]\n",
    "  print(\"==============topic\"+str(topic_id)+\"============\")\n",
    "  m=0\n",
    "  for word_id in topK_word:\n",
    "    word=word_dict.get(word_id)\n",
    "    if word!=None and len(word)>3 and m<20:\n",
    "        print(word)\n",
    "        m=m+1"
   ]
  },
  {
   "cell_type": "code",
   "execution_count": null,
   "metadata": {
    "collapsed": true
   },
   "outputs": [],
   "source": []
  },
  {
   "cell_type": "code",
   "execution_count": null,
   "metadata": {
    "collapsed": true
   },
   "outputs": [],
   "source": []
  },
  {
   "cell_type": "code",
   "execution_count": 138,
   "metadata": {
    "collapsed": false
   },
   "outputs": [
    {
     "data": {
      "text/plain": [
       "array([     0,      1,      2, ..., 299859, 299905, 299953])"
      ]
     },
     "execution_count": 138,
     "metadata": {},
     "output_type": "execute_result"
    }
   ],
   "source": [
    "test_100=topic_word_matrix[99,].getA1()\n",
    "test_100_no_zero=np.nonzero(test_100)\n",
    "test_100_no_zero[0]#.shape"
   ]
  },
  {
   "cell_type": "code",
   "execution_count": 151,
   "metadata": {
    "collapsed": false
   },
   "outputs": [
    {
     "data": {
      "text/plain": [
       "array([ 0.,  0.,  0.,  0.,  0.,  0.,  0.,  0.,  0.,  0.,  0.,  0.,  0.,\n",
       "        0.,  0.,  0.,  0.,  0.,  0.,  0.,  0.,  0.,  0.,  0.,  0.,  0.,\n",
       "        0.,  0.,  0.,  0.,  0.,  0.,  0.,  0.,  0.,  0.,  0.,  0.,  0.,\n",
       "        0.,  0.,  0.,  0.,  0.,  0.,  0.,  0.,  0.,  0.,  0.,  0.,  0.,\n",
       "        0.,  0.,  0.,  0.,  0.,  0.,  0.,  0.,  0.,  0.,  0.,  0.,  0.,\n",
       "        0.,  0.,  0.,  0.,  0.,  0.,  0.,  0.,  0.,  0.,  0.,  0.,  0.,\n",
       "        0.,  0.,  0.,  0.,  0.,  0.,  0.,  0.,  0.,  0.,  0.,  0.,  0.,\n",
       "        0.,  0.,  0.,  0.,  0.,  0.,  0.,  0.,  0.,  0.,  0.,  0.,  0.,\n",
       "        0.,  0.,  0.,  0.,  0.,  0.,  0.,  0.,  0.,  0.,  0.,  0.,  0.,\n",
       "        0.,  0.,  0.,  0.,  0.,  0.,  0.,  0.,  0.,  0.,  0.,  0.,  0.,\n",
       "        0.,  0.,  0.,  0.,  0.,  0.,  0.,  0.,  0.,  0.,  0.,  0.,  0.,\n",
       "        0.,  0.,  0.,  0.,  0.,  0.,  0.,  0.,  0.,  0.,  0.,  0.,  0.,\n",
       "        0.,  0.,  0.,  0.,  0.,  0.,  0.,  0.,  0.,  0.,  0.,  0.,  0.,\n",
       "        0.,  0.,  0.,  0.,  0.,  0.,  0.,  0.,  0.,  0.,  0.,  0.,  0.,\n",
       "        0.,  0.,  0.,  0.,  0.,  0.,  0.,  0.,  0.,  0.,  0.,  0.,  0.,\n",
       "        0.,  0.,  0.,  0.,  0.,  0.,  0.,  0.,  0.,  0.,  0.,  0.,  0.,\n",
       "        0.,  0.,  0.,  0.,  0.,  0.,  0.,  0.,  0.,  0.,  0.,  0.,  0.,\n",
       "        0.,  0.,  0.,  0.,  0.,  0.,  0.,  0.,  0.,  0.,  0.,  0.,  0.,\n",
       "        0.,  0.,  0.,  0.,  0.,  0.,  0.,  0.,  0.,  0.,  0.,  0.,  0.,\n",
       "        0.,  0.,  0.,  0.,  0.,  0.,  0.,  0.,  0.,  0.,  0.,  0.,  0.,\n",
       "        0.,  0.,  0.,  0.,  0.,  0.,  0.,  0.,  0.,  0.,  0.,  0.,  0.,\n",
       "        0.,  0.,  0.,  0.,  0.,  0.,  0.,  0.,  0.,  0.,  0.,  0.,  0.,\n",
       "        0.,  0.,  0.,  0.,  0.,  0.,  0.,  0.,  0.,  0.,  0.,  0.,  0.,\n",
       "        0.,  0.,  0.,  0.,  0.,  0.,  0.,  0.,  0.,  0.,  0.,  0.,  0.,\n",
       "        0.,  0.,  0.,  0.,  0.,  0.,  0.,  0.,  0.,  0.,  0.,  0.,  0.,\n",
       "        0.,  0.,  0.,  0.,  0.,  0.,  0.,  0.,  0.,  0.,  0.,  0.,  0.,\n",
       "        0.,  0.,  0.,  0.,  0.,  0.,  0.,  0.,  0.,  0.,  0.,  0.,  0.,\n",
       "        0.,  0.,  0.,  0.,  0.,  0.,  0.,  0.,  0.,  0.,  0.,  0.,  0.,\n",
       "        0.,  0.,  0.,  0.,  0.,  0.,  0.,  0.,  0.,  0.,  0.,  0.,  0.,\n",
       "        0.,  0.,  0.,  0.,  0.,  0.,  0.,  0.,  0.,  0.,  0.,  0.,  0.,\n",
       "        0.,  0.,  0.,  0.,  0.,  0.,  0.,  0.,  0.,  0.,  0.,  0.,  0.,\n",
       "        0.,  0.,  0.,  0.,  0.,  0.,  0.,  0.,  0.,  0.,  0.,  0.,  0.,\n",
       "        0.,  0.,  0.,  0.,  0.,  0.,  0.,  0.,  0.,  0.,  0.,  0.,  0.,\n",
       "        0.,  0.,  0.,  0.,  0.,  0.,  0.,  0.,  0.,  0.,  0.,  0.,  0.,\n",
       "        0.,  0.,  0.,  0.,  0.,  0.,  0.,  0.,  0.,  0.,  0.,  0.,  0.,\n",
       "        0.,  0.,  0.,  0.,  0.,  0.,  0.,  0.,  0.,  0.,  0.,  0.,  0.,\n",
       "        0.,  0.,  0.,  0.,  0.,  0.,  0.,  0.,  0.,  0.,  0.,  0.,  0.,\n",
       "        0.,  0.,  0.,  0.,  0.,  0.,  0.,  0.,  0.,  0.,  0.,  0.,  0.,\n",
       "        0.,  0.,  0.,  0.,  0.,  0.,  0.,  0.,  0.,  0.,  0.,  0.,  0.,\n",
       "        0.,  0.,  0.,  0.,  0.,  0.,  0.,  0.,  0.,  0.,  0.,  0.,  0.,\n",
       "        0.,  0.,  0.,  0.,  0.,  0.,  0.,  0.,  0.,  0.,  0.,  0.,  0.,\n",
       "        0.,  0.,  0.,  0.,  0.,  0.,  0.,  0.,  0.,  0.,  0.,  0.,  0.,\n",
       "        0.,  0.,  0.,  0.,  0.,  0.,  0.,  0.,  0.,  0.,  0.,  0.,  0.,\n",
       "        0.,  0.,  0.,  0.,  0.,  0.,  0.,  0.,  0.,  0.,  0.,  0.,  0.,\n",
       "        0.,  0.,  0.,  0.,  0.,  0.,  0.,  0.,  0.,  0.,  0.,  0.,  0.,\n",
       "        0.,  0.,  0.,  0.,  0.,  0.,  0.,  0.,  0.,  0.,  0.,  0.,  0.,\n",
       "        0.,  0.,  0.,  0.,  0.,  0.,  0.,  0.,  0.,  0.,  0.,  0.,  0.,\n",
       "        0.,  0.,  0.,  0.,  0.,  0.,  0.,  0.,  0.,  0.,  0.,  0.,  0.,\n",
       "        0.,  0.,  0.,  0.,  0.,  0.,  0.,  0.,  0.,  0.,  0.,  0.,  0.,\n",
       "        0.,  0.,  0.,  0.,  0.,  0.,  0.,  0.,  0.,  0.,  0.,  0.,  0.,\n",
       "        0.,  0.,  0.,  0.,  0.,  0.,  0.,  0.,  0.,  0.,  0.,  0.,  0.,\n",
       "        0.,  0.,  0.,  0.,  0.,  0.,  0.,  0.,  0.,  0.,  0.,  0.,  0.,\n",
       "        0.,  0.,  0.,  0.,  0.,  0.,  0.,  0.,  0.,  0.,  0.,  0.,  0.,\n",
       "        0.,  0.,  0.,  0.,  0.,  0.,  0.,  0.,  0.,  0.,  0.,  0.,  0.,\n",
       "        0.,  0.,  0.,  0.,  0.,  0.,  0.,  0.,  0.,  0.,  0.,  0.,  0.,\n",
       "        0.,  0.,  0.,  0.,  0.,  0.,  0.,  0.,  0.,  0.,  0.,  0.,  0.,\n",
       "        0.,  0.,  0.,  0.,  0.,  0.,  0.,  0.,  0.,  0.,  0.,  0.,  0.,\n",
       "        0.,  0.,  0.,  0.,  0.,  0.,  0.,  0.,  0.,  0.,  0.,  0.,  0.,\n",
       "        0.,  0.,  0.,  0.,  0.,  0.,  0.,  0.,  0.,  0.,  0.,  0.,  0.,\n",
       "        0.,  0.,  0.,  0.,  0.,  0.,  0.,  0.,  0.,  0.,  0.,  0.,  0.,\n",
       "        0.,  0.,  0.,  0.,  0.,  0.,  0.,  0.,  0.,  0.,  0.,  0.,  0.,\n",
       "        0.,  0.,  0.,  0.,  0.,  0.,  0.,  0.,  0.,  0.,  0.,  0.,  0.,\n",
       "        0.,  0.,  0.,  0.,  0.,  0.,  0.,  0.,  0.,  0.,  0.,  0.,  0.,\n",
       "        0.,  0.,  0.,  0.,  0.,  0.,  0.,  0.,  0.,  0.,  0.,  0.,  0.,\n",
       "        0.,  0.,  0.,  0.,  0.,  0.,  0.,  0.,  0.,  0.,  0.,  0.,  0.,\n",
       "        0.,  0.,  0.,  0.,  0.,  0.,  0.,  0.,  0.,  0.,  0.,  0.,  0.,\n",
       "        0.,  0.,  0.,  0.,  0.,  0.,  0.,  0.,  0.,  0.,  0.,  0.,  0.,\n",
       "        0.,  0.,  0.,  0.,  0.,  0.,  0.,  0.,  0.,  0.,  0.,  0.,  0.,\n",
       "        0.,  0.,  0.,  0.,  0.,  0.,  0.,  0.,  0.,  0.,  0.,  0.,  0.,\n",
       "        0.,  0.,  0.,  0.,  0.,  0.,  0.,  0.,  0.,  0.,  0.,  0.,  0.,\n",
       "        0.,  0.,  0.,  0.,  0.,  0.,  0.,  0.,  0.,  0.,  0.,  0.,  0.,\n",
       "        0.,  0.,  0.,  0.,  0.,  0.,  0.,  0.,  0.,  0.,  0.,  0.,  0.,\n",
       "        0.,  0.,  0.,  0.,  0.,  0.,  0.,  0.,  0.,  0.,  0.,  0.,  0.,\n",
       "        0.,  0.,  0.,  0.,  0.,  0.,  0.,  0.,  0.,  0.,  0.,  0.,  0.,\n",
       "        0.,  0.,  0.,  0.,  0.,  0.,  0.,  0.,  0.,  0.,  0.,  0.,  0.,\n",
       "        0.,  0.,  0.,  0.,  0.,  0.,  0.,  0.,  0.,  0.,  0.,  0.,  0.,\n",
       "        0.,  0.,  0.,  0.,  0.,  0.,  0.,  0.,  0.,  0.,  0.,  0.])"
      ]
     },
     "execution_count": 151,
     "metadata": {},
     "output_type": "execute_result"
    }
   ],
   "source": [
    "word_topic[0]"
   ]
  },
  {
   "cell_type": "code",
   "execution_count": null,
   "metadata": {
    "collapsed": true
   },
   "outputs": [],
   "source": []
  },
  {
   "cell_type": "code",
   "execution_count": null,
   "metadata": {
    "collapsed": true
   },
   "outputs": [],
   "source": []
  },
  {
   "cell_type": "code",
   "execution_count": null,
   "metadata": {
    "collapsed": true
   },
   "outputs": [],
   "source": []
  },
  {
   "cell_type": "code",
   "execution_count": null,
   "metadata": {
    "collapsed": true
   },
   "outputs": [],
   "source": []
  },
  {
   "cell_type": "code",
   "execution_count": null,
   "metadata": {
    "collapsed": true
   },
   "outputs": [],
   "source": []
  },
  {
   "cell_type": "code",
   "execution_count": null,
   "metadata": {
    "collapsed": true
   },
   "outputs": [],
   "source": []
  },
  {
   "cell_type": "code",
   "execution_count": null,
   "metadata": {
    "collapsed": true
   },
   "outputs": [],
   "source": []
  },
  {
   "cell_type": "code",
   "execution_count": null,
   "metadata": {
    "collapsed": true
   },
   "outputs": [],
   "source": []
  },
  {
   "cell_type": "code",
   "execution_count": null,
   "metadata": {
    "collapsed": true
   },
   "outputs": [],
   "source": []
  },
  {
   "cell_type": "code",
   "execution_count": null,
   "metadata": {
    "collapsed": true
   },
   "outputs": [],
   "source": []
  },
  {
   "cell_type": "code",
   "execution_count": null,
   "metadata": {
    "collapsed": true
   },
   "outputs": [],
   "source": []
  },
  {
   "cell_type": "code",
   "execution_count": null,
   "metadata": {
    "collapsed": true
   },
   "outputs": [],
   "source": []
  },
  {
   "cell_type": "code",
   "execution_count": null,
   "metadata": {
    "collapsed": true
   },
   "outputs": [],
   "source": []
  },
  {
   "cell_type": "code",
   "execution_count": null,
   "metadata": {
    "collapsed": true
   },
   "outputs": [],
   "source": []
  },
  {
   "cell_type": "code",
   "execution_count": 160,
   "metadata": {
    "collapsed": false
   },
   "outputs": [
    {
     "ename": "NameError",
     "evalue": "name 'log' is not defined",
     "output_type": "error",
     "traceback": [
      "\u001b[0;31m\u001b[0m",
      "\u001b[0;31mNameError\u001b[0mTraceback (most recent call last)",
      "\u001b[0;32m<ipython-input-160-916421c4ed7e>\u001b[0m in \u001b[0;36m<module>\u001b[0;34m()\u001b[0m\n\u001b[0;32m----> 1\u001b[0;31m \u001b[0mlog\u001b[0m\u001b[0;34m(\u001b[0m\u001b[0;36m1\u001b[0m\u001b[0;34m,\u001b[0m\u001b[0;36m10\u001b[0m\u001b[0;34m)\u001b[0m\u001b[0;34m\u001b[0m\u001b[0m\n\u001b[0m",
      "\u001b[0;31mNameError\u001b[0m: name 'log' is not defined"
     ]
    }
   ],
   "source": [
    "log(1,10)"
   ]
  },
  {
   "cell_type": "code",
   "execution_count": null,
   "metadata": {
    "collapsed": true
   },
   "outputs": [],
   "source": []
  },
  {
   "cell_type": "code",
   "execution_count": null,
   "metadata": {
    "collapsed": true
   },
   "outputs": [],
   "source": []
  },
  {
   "cell_type": "code",
   "execution_count": null,
   "metadata": {
    "collapsed": true
   },
   "outputs": [],
   "source": []
  },
  {
   "cell_type": "code",
   "execution_count": null,
   "metadata": {
    "collapsed": true
   },
   "outputs": [],
   "source": []
  },
  {
   "cell_type": "code",
   "execution_count": null,
   "metadata": {
    "collapsed": true
   },
   "outputs": [],
   "source": []
  },
  {
   "cell_type": "code",
   "execution_count": null,
   "metadata": {
    "collapsed": true
   },
   "outputs": [],
   "source": []
  },
  {
   "cell_type": "code",
   "execution_count": null,
   "metadata": {
    "collapsed": true
   },
   "outputs": [],
   "source": []
  },
  {
   "cell_type": "code",
   "execution_count": null,
   "metadata": {
    "collapsed": true
   },
   "outputs": [],
   "source": []
  },
  {
   "cell_type": "code",
   "execution_count": null,
   "metadata": {
    "collapsed": true
   },
   "outputs": [],
   "source": []
  }
 ],
 "metadata": {
  "kernelspec": {
   "display_name": "Python 2",
   "language": "python",
   "name": "python2"
  },
  "language_info": {
   "codemirror_mode": {
    "name": "ipython",
    "version": 2
   },
   "file_extension": ".py",
   "mimetype": "text/x-python",
   "name": "python",
   "nbconvert_exporter": "python",
   "pygments_lexer": "ipython2",
   "version": "2.7.5"
  }
 },
 "nbformat": 4,
 "nbformat_minor": 1
}
