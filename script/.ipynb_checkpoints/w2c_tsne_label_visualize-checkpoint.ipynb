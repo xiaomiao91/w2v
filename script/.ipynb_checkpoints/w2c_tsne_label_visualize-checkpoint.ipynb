{
 "cells": [
  {
   "cell_type": "markdown",
   "metadata": {},
   "source": [
    "# 该脚本用于词向量可视化（带分类标签）"
   ]
  },
  {
   "cell_type": "markdown",
   "metadata": {},
   "source": [
    "### 输入：\n",
    "* 词向量数据:input_vector_file: geshi1word vector\n",
    "* 标签文件：label_data\n",
    "### 输出：\n",
    "* 绘图向量数据：output_vector_file\n",
    "* 图形输出路径：output_plot"
   ]
  },
  {
   "cell_type": "code",
   "execution_count": null,
   "metadata": {
    "collapsed": true
   },
   "outputs": [],
   "source": [
    "######输入与输出\n",
    "input_vector_file='/data1/ad_dm/zemin/w2v_vis/data/group_chn_name_1w.vec'\n",
    "label_data=\"/data1/ad_dm/zemin/w2v_vis/data/label.word\"\n",
    "output_vector_file='/data1/ad_dm/zemin/w2v_vis/data/content1.plotdata'\n",
    "output_plot='/data1/ad_dm/zemin/w2v_vis/image/content1.png'"
   ]
  },
  {
   "cell_type": "code",
   "execution_count": 8,
   "metadata": {
    "collapsed": false
   },
   "outputs": [],
   "source": [
    "######全局变量定义\n",
    "InteractiveShell.ast_node_interactivity = \"all\"\n",
    "vec_dim=500"
   ]
  },
  {
   "cell_type": "code",
   "execution_count": null,
   "metadata": {
    "collapsed": true
   },
   "outputs": [],
   "source": [
    "######加载相关的包\n",
    "import sys\n",
    "reload(sys)\n",
    "sys.setdefaultencoding('utf-8')\n",
    "####import matplotlib\n",
    "\n",
    "import matplotlib\n",
    "matplotlib.use('Agg')\n",
    "import matplotlib.pyplot as plt\n",
    "import matplotlib.patheffects as PathEffects\n",
    "import matplotlib\n",
    "####import numpy/scipy\n",
    "import numpy as np\n",
    "from numpy import linalg\n",
    "from numpy.linalg import norm\n",
    "from scipy.spatial.distance import squareform, pdist\n",
    "\n",
    "# We import sklearn.\n",
    "import sklearn\n",
    "from sklearn.manifold import TSNE\n",
    "from sklearn.datasets import load_digits\n",
    "from sklearn.preprocessing import scale\n",
    "\n",
    "# sklearn 0.15.2.\n",
    "from sklearn.metrics.pairwise import pairwise_distances\n",
    "from sklearn.manifold.t_sne import (_joint_probabilities,_kl_divergence)\n",
    "from sklearn.utils.extmath import _ravel\n",
    "\n",
    "###import ggplot R升级后不可用，暂时不需要\n",
    "#import rpy2.interactive as r\n",
    "#import rpy2.interactive.packages # this can take few seconds\n",
    "#import ggplot\n",
    "\n",
    "####import tsne\n",
    "from sklearn.manifold import TSNE\n",
    "from IPython.core.interactiveshell import InteractiveShell"
   ]
  },
  {
   "cell_type": "code",
   "execution_count": 9,
   "metadata": {
    "collapsed": false
   },
   "outputs": [],
   "source": [
    "##读取文件(词+500维的向量)到二维数组中\n",
    "dat=[]\n",
    "word=[]\n",
    "f=open(input_vector_file)\n",
    "for line in f:\n",
    "    line=line.strip()  \n",
    "    items=line.split(' ')\n",
    "    temp=[]\n",
    "    for i in range(vec_dim):\n",
    "        temp.append(items[i+1])\n",
    "    dat.append(temp)\n",
    "    word.append(items[0])\n",
    "f.close()\n",
    "\n",
    "f_label=open(label_data)\n",
    "label={}\n",
    "for line in f_label:\n",
    "    line=line.strip()\n",
    "    items=line.split(' ')   \n",
    "    label[items[1]]=items[0]\n",
    "f_label.close()"
   ]
  },
  {
   "cell_type": "code",
   "execution_count": 10,
   "metadata": {
    "collapsed": false,
    "scrolled": true
   },
   "outputs": [],
   "source": [
    "####使用T-sne降维\n",
    "model=TSNE(n_components=2,random_state=0)\n",
    "tsne_dat=model.fit_transform(dat)"
   ]
  },
  {
   "cell_type": "code",
   "execution_count": 11,
   "metadata": {
    "collapsed": false
   },
   "outputs": [],
   "source": [
    "####遍历降维后的数据，抽取词的标签，输出绘图所有的低维度数据\n",
    "f_plot=open(output_vector_file,'w+')\n",
    "for i in range(len(tsne_dat)-1):\n",
    "    f_plot.write(word[i]+'\\t'+label.get(word[i],'0')+'\\t'+str(tsne_dat[i,0])+'\\t'+str(tsne_dat[i,1])+'\\n')\n",
    "    #print >> f_plot,\"%s\\t%s\\t%s\"%(word[i],tsne_dat[i,0],tsne_dat[i,1])\n",
    "f_plot.close()\n",
    "print(\"done\")"
   ]
  },
  {
   "cell_type": "code",
   "execution_count": 12,
   "metadata": {
    "collapsed": false
   },
   "outputs": [],
   "source": [
    "###作图\n",
    "%%bash -s \"$output_vector_file\" \"$output_plot\"\n",
    "cd /data1/ad_dm/zemin/w2v_vis/\n",
    "Rscript /data1/ad_dm/zemin/w2v_vis/script/ggplot_2d.R  $1 $2 0"
   ]
  },
  {
   "cell_type": "code",
   "execution_count": 25,
   "metadata": {
    "collapsed": true
   },
   "outputs": [],
   "source": [
    "%ls"
   ]
  },
  {
   "cell_type": "code",
   "execution_count": null,
   "metadata": {
    "collapsed": true
   },
   "outputs": [],
   "source": []
  },
  {
   "cell_type": "code",
   "execution_count": null,
   "metadata": {
    "collapsed": true
   },
   "outputs": [],
   "source": []
  }
 ],
 "metadata": {
  "kernelspec": {
   "display_name": "Python 2",
   "language": "python",
   "name": "python2"
  },
  "language_info": {
   "codemirror_mode": {
    "name": "ipython",
    "version": 2
   },
   "file_extension": ".py",
   "mimetype": "text/x-python",
   "name": "python",
   "nbconvert_exporter": "python",
   "pygments_lexer": "ipython2",
   "version": "2.7.5"
  }
 },
 "nbformat": 4,
 "nbformat_minor": 1
}
